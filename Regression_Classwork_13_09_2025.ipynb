{
  "nbformat": 4,
  "nbformat_minor": 0,
  "metadata": {
    "colab": {
      "provenance": [],
      "authorship_tag": "ABX9TyNL2U8TiqfhYiI1cZK5PLW5",
      "include_colab_link": true
    },
    "kernelspec": {
      "name": "python3",
      "display_name": "Python 3"
    },
    "language_info": {
      "name": "python"
    }
  },
  "cells": [
    {
      "cell_type": "markdown",
      "metadata": {
        "id": "view-in-github",
        "colab_type": "text"
      },
      "source": [
        "<a href=\"https://colab.research.google.com/github/VETTRIVELAN72/Classifier-Classwork-13-09-2025/blob/main/Regression_Classwork_13_09_2025.ipynb\" target=\"_parent\"><img src=\"https://colab.research.google.com/assets/colab-badge.svg\" alt=\"Open In Colab\"/></a>"
      ]
    },
    {
      "cell_type": "code",
      "source": [
        "# Installing catboost\n",
        "!pip install catboost"
      ],
      "metadata": {
        "colab": {
          "base_uri": "https://localhost:8080/"
        },
        "id": "IwIUI3ych57F",
        "outputId": "13b42f06-dcf2-493b-dd5e-d297e7554e78"
      },
      "execution_count": 2,
      "outputs": [
        {
          "output_type": "stream",
          "name": "stdout",
          "text": [
            "Collecting catboost\n",
            "  Downloading catboost-1.2.8-cp312-cp312-manylinux2014_x86_64.whl.metadata (1.2 kB)\n",
            "Requirement already satisfied: graphviz in /usr/local/lib/python3.12/dist-packages (from catboost) (0.21)\n",
            "Requirement already satisfied: matplotlib in /usr/local/lib/python3.12/dist-packages (from catboost) (3.10.0)\n",
            "Requirement already satisfied: numpy<3.0,>=1.16.0 in /usr/local/lib/python3.12/dist-packages (from catboost) (2.0.2)\n",
            "Requirement already satisfied: pandas>=0.24 in /usr/local/lib/python3.12/dist-packages (from catboost) (2.2.2)\n",
            "Requirement already satisfied: scipy in /usr/local/lib/python3.12/dist-packages (from catboost) (1.16.1)\n",
            "Requirement already satisfied: plotly in /usr/local/lib/python3.12/dist-packages (from catboost) (5.24.1)\n",
            "Requirement already satisfied: six in /usr/local/lib/python3.12/dist-packages (from catboost) (1.17.0)\n",
            "Requirement already satisfied: python-dateutil>=2.8.2 in /usr/local/lib/python3.12/dist-packages (from pandas>=0.24->catboost) (2.9.0.post0)\n",
            "Requirement already satisfied: pytz>=2020.1 in /usr/local/lib/python3.12/dist-packages (from pandas>=0.24->catboost) (2025.2)\n",
            "Requirement already satisfied: tzdata>=2022.7 in /usr/local/lib/python3.12/dist-packages (from pandas>=0.24->catboost) (2025.2)\n",
            "Requirement already satisfied: contourpy>=1.0.1 in /usr/local/lib/python3.12/dist-packages (from matplotlib->catboost) (1.3.3)\n",
            "Requirement already satisfied: cycler>=0.10 in /usr/local/lib/python3.12/dist-packages (from matplotlib->catboost) (0.12.1)\n",
            "Requirement already satisfied: fonttools>=4.22.0 in /usr/local/lib/python3.12/dist-packages (from matplotlib->catboost) (4.59.2)\n",
            "Requirement already satisfied: kiwisolver>=1.3.1 in /usr/local/lib/python3.12/dist-packages (from matplotlib->catboost) (1.4.9)\n",
            "Requirement already satisfied: packaging>=20.0 in /usr/local/lib/python3.12/dist-packages (from matplotlib->catboost) (25.0)\n",
            "Requirement already satisfied: pillow>=8 in /usr/local/lib/python3.12/dist-packages (from matplotlib->catboost) (11.3.0)\n",
            "Requirement already satisfied: pyparsing>=2.3.1 in /usr/local/lib/python3.12/dist-packages (from matplotlib->catboost) (3.2.3)\n",
            "Requirement already satisfied: tenacity>=6.2.0 in /usr/local/lib/python3.12/dist-packages (from plotly->catboost) (8.5.0)\n",
            "Downloading catboost-1.2.8-cp312-cp312-manylinux2014_x86_64.whl (99.2 MB)\n",
            "\u001b[2K   \u001b[90m━━━━━━━━━━━━━━━━━━━━━━━━━━━━━━━━━━━━━━━━\u001b[0m \u001b[32m99.2/99.2 MB\u001b[0m \u001b[31m8.6 MB/s\u001b[0m eta \u001b[36m0:00:00\u001b[0m\n",
            "\u001b[?25hInstalling collected packages: catboost\n",
            "Successfully installed catboost-1.2.8\n"
          ]
        }
      ]
    },
    {
      "cell_type": "code",
      "execution_count": 3,
      "metadata": {
        "id": "L7l9aq9ThD1Q"
      },
      "outputs": [],
      "source": [
        "# Importing important libraries\n",
        "import numpy as np\n",
        "import pandas as pd\n",
        "import pickle\n",
        "from sklearn.datasets import fetch_california_housing\n",
        "from sklearn.model_selection import train_test_split, GridSearchCV\n",
        "from sklearn.tree import DecisionTreeRegressor\n",
        "from sklearn.ensemble import RandomForestRegressor, AdaBoostRegressor\n",
        "from xgboost import XGBRegressor\n",
        "from catboost import CatBoostRegressor\n",
        "from sklearn import metrics\n",
        "import warnings\n",
        "warnings.filterwarnings('ignore')"
      ]
    },
    {
      "cell_type": "code",
      "source": [
        "# Loading the dataset\n",
        "data = fetch_california_housing()\n",
        "print(data.keys())\n"
      ],
      "metadata": {
        "colab": {
          "base_uri": "https://localhost:8080/"
        },
        "id": "-xr3Witqh0-9",
        "outputId": "197e4a79-59d3-48a3-e2ad-600046bcda84"
      },
      "execution_count": 4,
      "outputs": [
        {
          "output_type": "stream",
          "name": "stdout",
          "text": [
            "dict_keys(['data', 'target', 'frame', 'target_names', 'feature_names', 'DESCR'])\n"
          ]
        }
      ]
    },
    {
      "cell_type": "code",
      "source": [
        "# DESCR\n",
        "print(data.DESCR)"
      ],
      "metadata": {
        "colab": {
          "base_uri": "https://localhost:8080/"
        },
        "id": "mrZ7-e1qh16r",
        "outputId": "67fd0f35-7f2d-4099-d4c5-fe29a8bc9ddd"
      },
      "execution_count": 5,
      "outputs": [
        {
          "output_type": "stream",
          "name": "stdout",
          "text": [
            ".. _california_housing_dataset:\n",
            "\n",
            "California Housing dataset\n",
            "--------------------------\n",
            "\n",
            "**Data Set Characteristics:**\n",
            "\n",
            ":Number of Instances: 20640\n",
            "\n",
            ":Number of Attributes: 8 numeric, predictive attributes and the target\n",
            "\n",
            ":Attribute Information:\n",
            "    - MedInc        median income in block group\n",
            "    - HouseAge      median house age in block group\n",
            "    - AveRooms      average number of rooms per household\n",
            "    - AveBedrms     average number of bedrooms per household\n",
            "    - Population    block group population\n",
            "    - AveOccup      average number of household members\n",
            "    - Latitude      block group latitude\n",
            "    - Longitude     block group longitude\n",
            "\n",
            ":Missing Attribute Values: None\n",
            "\n",
            "This dataset was obtained from the StatLib repository.\n",
            "https://www.dcc.fc.up.pt/~ltorgo/Regression/cal_housing.html\n",
            "\n",
            "The target variable is the median house value for California districts,\n",
            "expressed in hundreds of thousands of dollars ($100,000).\n",
            "\n",
            "This dataset was derived from the 1990 U.S. census, using one row per census\n",
            "block group. A block group is the smallest geographical unit for which the U.S.\n",
            "Census Bureau publishes sample data (a block group typically has a population\n",
            "of 600 to 3,000 people).\n",
            "\n",
            "A household is a group of people residing within a home. Since the average\n",
            "number of rooms and bedrooms in this dataset are provided per household, these\n",
            "columns may take surprisingly large values for block groups with few households\n",
            "and many empty houses, such as vacation resorts.\n",
            "\n",
            "It can be downloaded/loaded using the\n",
            ":func:`sklearn.datasets.fetch_california_housing` function.\n",
            "\n",
            ".. rubric:: References\n",
            "\n",
            "- Pace, R. Kelley and Ronald Barry, Sparse Spatial Autoregressions,\n",
            "  Statistics and Probability Letters, 33 (1997) 291-297\n",
            "\n"
          ]
        }
      ]
    },
    {
      "cell_type": "code",
      "source": [
        "# Seperating training and testing data\n",
        "X = data.data\n",
        "y = data.target"
      ],
      "metadata": {
        "id": "nu2E41sWh3ds"
      },
      "execution_count": 6,
      "outputs": []
    },
    {
      "cell_type": "code",
      "source": [
        "# Performing train test split\n",
        "X_train, X_test, y_train,y_test = train_test_split(X,y, test_size=0.2, random_state=42)\n"
      ],
      "metadata": {
        "id": "-PNd-qqSh47D"
      },
      "execution_count": 7,
      "outputs": []
    },
    {
      "cell_type": "code",
      "source": [
        "# Creating an empty dictionary for recording the results\n",
        "results = {}"
      ],
      "metadata": {
        "id": "Uy8-TQsgm1vW"
      },
      "execution_count": 8,
      "outputs": []
    },
    {
      "cell_type": "code",
      "source": [
        "# Decision Tree\n",
        "dt_param_grid = {'max_depth' : [10, None], 'min_samples_split' : [2, 5]}\n",
        "dt_grid = GridSearchCV(DecisionTreeRegressor(random_state = 42), dt_param_grid,\n",
        "                       cv = 2, scoring = 'neg_mean_squared_error')\n",
        "dt_grid.fit(X_train, y_train)\n",
        "dt_best = dt_grid.best_estimator_\n",
        "y_pred_dt = dt_best.predict(X_test)\n",
        "results['Decision Tree'] = metrics.mean_squared_error(y_test, y_pred_dt)\n",
        "print(results)\n",
        "\n"
      ],
      "metadata": {
        "colab": {
          "base_uri": "https://localhost:8080/"
        },
        "id": "UZFKOJZ1hd8a",
        "outputId": "a4ad230e-a195-4932-b24f-fb44e5b2650a"
      },
      "execution_count": 9,
      "outputs": [
        {
          "output_type": "stream",
          "name": "stdout",
          "text": [
            "{'Decision Tree': 0.4108816277037728}\n"
          ]
        }
      ]
    },
    {
      "cell_type": "code",
      "source": [
        "# Random Forest\n",
        "rf_param_grid = {'n_estimators' : [50], 'max_depth' :[10, None]}\n",
        "rf_grid = GridSearchCV(RandomForestRegressor(random_state = 42), rf_param_grid,\n",
        "                       cv = 2, scoring = 'neg_mean_squared_error')\n",
        "rf_grid.fit(X_train, y_train)\n",
        "rf_best = rf_grid.best_estimator_\n",
        "y_pred_rf = rf_best.predict(X_test)\n",
        "results['Random Forest'] = metrics.mean_squared_error(y_test, y_pred_rf)\n",
        "print(results)"
      ],
      "metadata": {
        "colab": {
          "base_uri": "https://localhost:8080/"
        },
        "id": "RUFFnMIRkH9E",
        "outputId": "f32fccd7-496d-4f11-e94b-eb2083173e37"
      },
      "execution_count": 10,
      "outputs": [
        {
          "output_type": "stream",
          "name": "stdout",
          "text": [
            "{'Decision Tree': 0.4108816277037728, 'Random Forest': 0.2572979293772426}\n"
          ]
        }
      ]
    },
    {
      "cell_type": "code",
      "source": [
        "# AdaBoost\n",
        "ab_param_grid = {'n_estimators' : [50], 'learning_rate' : [0.1]}\n",
        "ab_grid = GridSearchCV(AdaBoostRegressor(random_state = 42), ab_param_grid,\n",
        "                       cv = 2, scoring = 'neg_mean_squared_error')\n",
        "ab_grid.fit(X_train, y_train)\n",
        "ab_best = ab_grid.best_estimator_\n",
        "y_pred_ab = ab_best.predict(X_test)\n",
        "results['AdaBoost'] = metrics.mean_squared_error(y_test, y_pred_ab)\n",
        "print(results)"
      ],
      "metadata": {
        "colab": {
          "base_uri": "https://localhost:8080/"
        },
        "id": "TtFmPEnqnBnp",
        "outputId": "ef199225-07ec-41bc-ae69-5089b56562d6"
      },
      "execution_count": 11,
      "outputs": [
        {
          "output_type": "stream",
          "name": "stdout",
          "text": [
            "{'Decision Tree': 0.4108816277037728, 'Random Forest': 0.2572979293772426, 'AdaBoost': 0.56632113891916}\n"
          ]
        }
      ]
    },
    {
      "cell_type": "code",
      "source": [
        "# XGBoost\n",
        "xgb_param_grid = {'n_estimators' : [50], 'learning_rate' : [0.1], 'max_depth' : [3,5]}\n",
        "xgb_grid = GridSearchCV(XGBRegressor(random_state = 42), xgb_param_grid,\n",
        "                       cv = 2, scoring = 'neg_mean_squared_error')\n",
        "xgb_grid.fit(X_train, y_train)\n",
        "xgb_best = xgb_grid.best_estimator_\n",
        "y_pred_xgb = xgb_best.predict(X_test)\n",
        "results['XGBoost'] = metrics.mean_squared_error(y_test, y_pred_xgb)\n",
        "print(results)"
      ],
      "metadata": {
        "colab": {
          "base_uri": "https://localhost:8080/"
        },
        "id": "d1qKIesCnDK1",
        "outputId": "05c1804c-01b2-4cca-d21d-c0a394bef8a8"
      },
      "execution_count": 12,
      "outputs": [
        {
          "output_type": "stream",
          "name": "stdout",
          "text": [
            "{'Decision Tree': 0.4108816277037728, 'Random Forest': 0.2572979293772426, 'AdaBoost': 0.56632113891916, 'XGBoost': 0.27461538581034906}\n"
          ]
        }
      ]
    },
    {
      "cell_type": "code",
      "source": [
        "# catBoost\n",
        "cat_param_grid = {'n_estimators' : [100], 'learning_rate' : [0.1], 'max_depth' : [6]}\n",
        "cat_grid = GridSearchCV(CatBoostRegressor(verbose = False, random_state = 42), cat_param_grid,\n",
        "                       cv = 2, scoring = 'neg_mean_squared_error')\n",
        "cat_grid.fit(X_train, y_train)\n",
        "cat_best = cat_grid.best_estimator_\n",
        "y_pred_cat = cat_best.predict(X_test)\n",
        "results['catBoost'] = metrics.mean_squared_error(y_test, y_pred_cat)\n",
        "print(results)"
      ],
      "metadata": {
        "colab": {
          "base_uri": "https://localhost:8080/"
        },
        "id": "Jwr4wXtJnF26",
        "outputId": "ffdca66d-504d-458d-8c5d-7a9bdbda49a6"
      },
      "execution_count": 13,
      "outputs": [
        {
          "output_type": "stream",
          "name": "stdout",
          "text": [
            "{'Decision Tree': 0.4108816277037728, 'Random Forest': 0.2572979293772426, 'AdaBoost': 0.56632113891916, 'XGBoost': 0.27461538581034906, 'catBoost': 0.266126308152799}\n"
          ]
        }
      ]
    },
    {
      "cell_type": "code",
      "source": [
        "# # Compare the save best model\n",
        "best_model_name = min(results, key=results.get)\n",
        "print(f\"Best Model: {best_model_name}\")"
      ],
      "metadata": {
        "colab": {
          "base_uri": "https://localhost:8080/"
        },
        "id": "YiD2glF3pY_D",
        "outputId": "411fd9e5-e16c-4b3e-a305-5d9eb3da728a"
      },
      "execution_count": 14,
      "outputs": [
        {
          "output_type": "stream",
          "name": "stdout",
          "text": [
            "Best Model: Random Forest\n"
          ]
        }
      ]
    },
    {
      "cell_type": "code",
      "source": [
        "# Saving the best model\n",
        "if best_model_name == 'Decision Tree':\n",
        "  best_model = dt_best\n",
        "elif best_model_name == 'Random Forest':\n",
        "  best_model = rf_best\n",
        "elif best_model_name == 'AdaBoost':\n",
        "  best_model = ab_best\n",
        "elif best_model_name == 'XGBoost':\n",
        "  best_model = xgb_best\n",
        "elif best_model_name == 'catBoost':\n",
        "  best_model = cat_best\n",
        "\n",
        "print(best_model)"
      ],
      "metadata": {
        "colab": {
          "base_uri": "https://localhost:8080/"
        },
        "id": "g2c8Xiuxu_FB",
        "outputId": "e4085989-84fa-405a-be48-f104cb8433f3"
      },
      "execution_count": 15,
      "outputs": [
        {
          "output_type": "stream",
          "name": "stdout",
          "text": [
            "RandomForestRegressor(n_estimators=50, random_state=42)\n"
          ]
        }
      ]
    },
    {
      "cell_type": "code",
      "source": [
        "# Saving the best model in pickle file format\n",
        "with open('best_model.pkl', 'wb') as file:\n",
        "    pickle.dump(best_model, file)"
      ],
      "metadata": {
        "id": "u5dpsAMjxxt-"
      },
      "execution_count": 16,
      "outputs": []
    }
  ]
}